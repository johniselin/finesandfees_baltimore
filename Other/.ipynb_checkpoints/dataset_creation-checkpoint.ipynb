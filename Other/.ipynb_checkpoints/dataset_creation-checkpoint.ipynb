{
 "cells": [
  {
   "cell_type": "code",
   "execution_count": 38,
   "metadata": {},
   "outputs": [],
   "source": [
    "import pandas as pd\n",
    "import numpy as np\n",
    "from sodapy import Socrata\n",
    "import geopandas\n",
    "import collections;\n",
    "import re;\n",
    "from time import time\n",
    "import math\n",
    "import feather\n",
    "from collections import defaultdict\n",
    "import matplotlib.pyplot as plt\n",
    "import mapclassify\n",
    "from mpl_toolkits.axes_grid1 import make_axes_locatable"
   ]
  },
  {
   "cell_type": "code",
   "execution_count": 39,
   "metadata": {},
   "outputs": [
    {
     "name": "stderr",
     "output_type": "stream",
     "text": [
      "WARNING:root:Requests made without an app_token will be subject to strict throttling limits.\n"
     ]
    }
   ],
   "source": [
    "# Set up Socrata\n",
    "client = Socrata(\"data.baltimorecity.gov\", None)\n",
    "socrata_id = \"3i3v-ibrt\""
   ]
  },
  {
   "cell_type": "code",
   "execution_count": 40,
   "metadata": {},
   "outputs": [
    {
     "data": {
      "text/plain": [
       "[u'Arrest',\n",
       " u'Age',\n",
       " u'Sex',\n",
       " u'Race',\n",
       " u'ArrestDate',\n",
       " u'ArrestTime',\n",
       " u'ArrestLocation',\n",
       " u'IncidentOffense',\n",
       " u'IncidentLocation',\n",
       " u'Charge',\n",
       " u'ChargeDescription',\n",
       " u'District',\n",
       " u'Post',\n",
       " u'Neighborhood',\n",
       " u'Longitude',\n",
       " u'Latitude',\n",
       " u'Location 1',\n",
       " u'2010 Census Neighborhoods',\n",
       " u'2010 Census Wards Precincts',\n",
       " u'Zip Codes']"
      ]
     },
     "execution_count": 40,
     "metadata": {},
     "output_type": "execute_result"
    }
   ],
   "source": [
    "# Get Metadata for Arrest Data\n",
    "metadata = client.get_metadata(socrata_id)\n",
    "[x['name'] for x in metadata['columns']]"
   ]
  },
  {
   "cell_type": "code",
   "execution_count": 41,
   "metadata": {},
   "outputs": [],
   "source": [
    "col = []\n",
    "\n",
    "for i in range(len(metadata['columns'])):\n",
    "    name = metadata['columns'][i]['name']\n",
    "    names = []\n",
    "    names.append(name)\n",
    "    col = col + names\n"
   ]
  },
  {
   "cell_type": "code",
   "execution_count": 42,
   "metadata": {},
   "outputs": [
    {
     "name": "stdout",
     "output_type": "stream",
     "text": [
      "\n",
      "> Loop number: 0\n"
     ]
    },
    {
     "name": "stderr",
     "output_type": "stream",
     "text": [
      "/anaconda/lib/python2.7/site-packages/ipykernel/__main__.py:14: FutureWarning: Sorting because non-concatenation axis is not aligned. A future version\n",
      "of pandas will change to not sort by default.\n",
      "\n",
      "To accept the future behavior, pass 'sort=False'.\n",
      "\n",
      "To retain the current behavior and silence the warning, pass 'sort=True'.\n",
      "\n"
     ]
    },
    {
     "name": "stdout",
     "output_type": "stream",
     "text": [
      "\n",
      "> Loop number: 1\n",
      "\n",
      "> Loop number: 2\n",
      "\n",
      "> Loop number: 3\n",
      "\n",
      "> Loop number: 4\n",
      "\n",
      "> Loop number: 5\n",
      "\n",
      "> Loop number: 6\n",
      "\n",
      "> Loop number: 7\n",
      "\n",
      "> Loop number: 8\n",
      "\n",
      "> Loop number: 9\n",
      "\n",
      "> Loop number: 10\n",
      "\n",
      "> Loop number: 11\n",
      "\n",
      "> Loop number: 12\n",
      "\n",
      "> Loop number: 13\n"
     ]
    }
   ],
   "source": [
    "# Import Arrest data via Socrata\n",
    "\n",
    "loop_size = 10000\n",
    "num_loops = 14\n",
    "\n",
    "df = pd.DataFrame(columns=col)\n",
    "\n",
    "for i in range(num_loops):\n",
    "    results = client.get(socrata_id,\n",
    "                         limit=loop_size,\n",
    "                         offset=loop_size * i)\n",
    "    print(\"\\n> Loop number: {}\".format(i))\n",
    "    df_loop = pd.DataFrame(results)\n",
    "    df = pd.concat([df,df_loop])"
   ]
  },
  {
   "cell_type": "code",
   "execution_count": 43,
   "metadata": {},
   "outputs": [
    {
     "name": "stdout",
     "output_type": "stream",
     "text": [
      "Arrest Data\n",
      "(138016, 35)\n",
      "Index([u'2010 Census Neighborhoods', u'2010 Census Wards Precincts', u'Age',\n",
      "       u'Arrest', u'ArrestDate', u'ArrestLocation', u'ArrestTime', u'Charge',\n",
      "       u'ChargeDescription', u'District', u'IncidentLocation',\n",
      "       u'IncidentOffense', u'Latitude', u'Location 1', u'Longitude',\n",
      "       u'Neighborhood', u'Post', u'Race', u'Sex', u'Zip Codes', u'age',\n",
      "       u'arrest', u'arrestdate', u'arrestlocation', u'arresttime', u'charge',\n",
      "       u'chargedescription', u'district', u'incidentl', u'incidento',\n",
      "       u'latitude', u'longitude', u'post', u'race', u'sex'],\n",
      "      dtype='object')\n"
     ]
    }
   ],
   "source": [
    "print(\"Arrest Data\")\n",
    "print(df.shape)\n",
    "print(df.columns)\n"
   ]
  },
  {
   "cell_type": "code",
   "execution_count": 44,
   "metadata": {},
   "outputs": [
    {
     "data": {
      "text/html": [
       "<div>\n",
       "<style scoped>\n",
       "    .dataframe tbody tr th:only-of-type {\n",
       "        vertical-align: middle;\n",
       "    }\n",
       "\n",
       "    .dataframe tbody tr th {\n",
       "        vertical-align: top;\n",
       "    }\n",
       "\n",
       "    .dataframe thead th {\n",
       "        text-align: right;\n",
       "    }\n",
       "</style>\n",
       "<table border=\"1\" class=\"dataframe\">\n",
       "  <thead>\n",
       "    <tr style=\"text-align: right;\">\n",
       "      <th></th>\n",
       "      <th>2010 Census Neighborhoods</th>\n",
       "      <th>2010 Census Wards Precincts</th>\n",
       "      <th>Age</th>\n",
       "      <th>Arrest</th>\n",
       "      <th>ArrestDate</th>\n",
       "      <th>ArrestLocation</th>\n",
       "      <th>ArrestTime</th>\n",
       "      <th>Charge</th>\n",
       "      <th>ChargeDescription</th>\n",
       "      <th>District</th>\n",
       "      <th>...</th>\n",
       "      <th>charge</th>\n",
       "      <th>chargedescription</th>\n",
       "      <th>district</th>\n",
       "      <th>incidentl</th>\n",
       "      <th>incidento</th>\n",
       "      <th>latitude</th>\n",
       "      <th>longitude</th>\n",
       "      <th>post</th>\n",
       "      <th>race</th>\n",
       "      <th>sex</th>\n",
       "    </tr>\n",
       "  </thead>\n",
       "  <tbody>\n",
       "    <tr>\n",
       "      <th>count</th>\n",
       "      <td>0.0</td>\n",
       "      <td>0.0</td>\n",
       "      <td>0.0</td>\n",
       "      <td>0.0</td>\n",
       "      <td>0.0</td>\n",
       "      <td>0.0</td>\n",
       "      <td>0.0</td>\n",
       "      <td>0.0</td>\n",
       "      <td>0.0</td>\n",
       "      <td>0.0</td>\n",
       "      <td>...</td>\n",
       "      <td>122105</td>\n",
       "      <td>138016</td>\n",
       "      <td>75590</td>\n",
       "      <td>75021</td>\n",
       "      <td>138016</td>\n",
       "      <td>73775</td>\n",
       "      <td>73775</td>\n",
       "      <td>74247</td>\n",
       "      <td>138016</td>\n",
       "      <td>138016</td>\n",
       "    </tr>\n",
       "    <tr>\n",
       "      <th>unique</th>\n",
       "      <td>0.0</td>\n",
       "      <td>0.0</td>\n",
       "      <td>0.0</td>\n",
       "      <td>0.0</td>\n",
       "      <td>0.0</td>\n",
       "      <td>0.0</td>\n",
       "      <td>0.0</td>\n",
       "      <td>0.0</td>\n",
       "      <td>0.0</td>\n",
       "      <td>0.0</td>\n",
       "      <td>...</td>\n",
       "      <td>605</td>\n",
       "      <td>6257</td>\n",
       "      <td>56</td>\n",
       "      <td>15660</td>\n",
       "      <td>158</td>\n",
       "      <td>22827</td>\n",
       "      <td>22999</td>\n",
       "      <td>141</td>\n",
       "      <td>5</td>\n",
       "      <td>2</td>\n",
       "    </tr>\n",
       "    <tr>\n",
       "      <th>top</th>\n",
       "      <td>NaN</td>\n",
       "      <td>NaN</td>\n",
       "      <td>NaN</td>\n",
       "      <td>NaN</td>\n",
       "      <td>NaN</td>\n",
       "      <td>NaN</td>\n",
       "      <td>NaN</td>\n",
       "      <td>NaN</td>\n",
       "      <td>NaN</td>\n",
       "      <td>NaN</td>\n",
       "      <td>...</td>\n",
       "      <td>1 1415</td>\n",
       "      <td>FAILURE TO APPEAR</td>\n",
       "      <td>Southern</td>\n",
       "      <td>1500 RUSSELL ST</td>\n",
       "      <td>Unknown Offense</td>\n",
       "      <td>39.274088468453</td>\n",
       "      <td>-76.627695120552</td>\n",
       "      <td>331</td>\n",
       "      <td>B</td>\n",
       "      <td>M</td>\n",
       "    </tr>\n",
       "    <tr>\n",
       "      <th>freq</th>\n",
       "      <td>NaN</td>\n",
       "      <td>NaN</td>\n",
       "      <td>NaN</td>\n",
       "      <td>NaN</td>\n",
       "      <td>NaN</td>\n",
       "      <td>NaN</td>\n",
       "      <td>NaN</td>\n",
       "      <td>NaN</td>\n",
       "      <td>NaN</td>\n",
       "      <td>NaN</td>\n",
       "      <td>...</td>\n",
       "      <td>22886</td>\n",
       "      <td>21292</td>\n",
       "      <td>9679</td>\n",
       "      <td>408</td>\n",
       "      <td>71675</td>\n",
       "      <td>387</td>\n",
       "      <td>387</td>\n",
       "      <td>2249</td>\n",
       "      <td>112887</td>\n",
       "      <td>111529</td>\n",
       "    </tr>\n",
       "  </tbody>\n",
       "</table>\n",
       "<p>4 rows × 35 columns</p>\n",
       "</div>"
      ],
      "text/plain": [
       "        2010 Census Neighborhoods  2010 Census Wards Precincts  Age  Arrest  \\\n",
       "count                         0.0                          0.0  0.0     0.0   \n",
       "unique                        0.0                          0.0  0.0     0.0   \n",
       "top                           NaN                          NaN  NaN     NaN   \n",
       "freq                          NaN                          NaN  NaN     NaN   \n",
       "\n",
       "        ArrestDate  ArrestLocation  ArrestTime  Charge  ChargeDescription  \\\n",
       "count          0.0             0.0         0.0     0.0                0.0   \n",
       "unique         0.0             0.0         0.0     0.0                0.0   \n",
       "top            NaN             NaN         NaN     NaN                NaN   \n",
       "freq           NaN             NaN         NaN     NaN                NaN   \n",
       "\n",
       "        District  ...  charge  chargedescription  district        incidentl  \\\n",
       "count        0.0  ...  122105             138016     75590            75021   \n",
       "unique       0.0  ...     605               6257        56            15660   \n",
       "top          NaN  ...  1 1415  FAILURE TO APPEAR  Southern  1500 RUSSELL ST   \n",
       "freq         NaN  ...   22886              21292      9679              408   \n",
       "\n",
       "              incidento         latitude         longitude   post    race  \\\n",
       "count            138016            73775             73775  74247  138016   \n",
       "unique              158            22827             22999    141       5   \n",
       "top     Unknown Offense  39.274088468453  -76.627695120552    331       B   \n",
       "freq              71675              387               387   2249  112887   \n",
       "\n",
       "           sex  \n",
       "count   138016  \n",
       "unique       2  \n",
       "top          M  \n",
       "freq    111529  \n",
       "\n",
       "[4 rows x 35 columns]"
      ]
     },
     "execution_count": 44,
     "metadata": {},
     "output_type": "execute_result"
    }
   ],
   "source": [
    "df.describe()"
   ]
  },
  {
   "cell_type": "code",
   "execution_count": 45,
   "metadata": {},
   "outputs": [
    {
     "data": {
      "text/html": [
       "<div>\n",
       "<style scoped>\n",
       "    .dataframe tbody tr th:only-of-type {\n",
       "        vertical-align: middle;\n",
       "    }\n",
       "\n",
       "    .dataframe tbody tr th {\n",
       "        vertical-align: top;\n",
       "    }\n",
       "\n",
       "    .dataframe thead th {\n",
       "        text-align: right;\n",
       "    }\n",
       "</style>\n",
       "<table border=\"1\" class=\"dataframe\">\n",
       "  <thead>\n",
       "    <tr style=\"text-align: right;\">\n",
       "      <th></th>\n",
       "      <th>age</th>\n",
       "      <th>arrest</th>\n",
       "      <th>arrestdate</th>\n",
       "      <th>arrestlocation</th>\n",
       "      <th>chargedescription</th>\n",
       "      <th>latitude</th>\n",
       "      <th>longitude</th>\n",
       "      <th>race</th>\n",
       "      <th>sex</th>\n",
       "      <th>district</th>\n",
       "    </tr>\n",
       "  </thead>\n",
       "  <tbody>\n",
       "    <tr>\n",
       "      <th>count</th>\n",
       "      <td>137976</td>\n",
       "      <td>131291</td>\n",
       "      <td>138016</td>\n",
       "      <td>75021</td>\n",
       "      <td>138016</td>\n",
       "      <td>73775</td>\n",
       "      <td>73775</td>\n",
       "      <td>138016</td>\n",
       "      <td>138016</td>\n",
       "      <td>75590</td>\n",
       "    </tr>\n",
       "    <tr>\n",
       "      <th>unique</th>\n",
       "      <td>74</td>\n",
       "      <td>131186</td>\n",
       "      <td>1885</td>\n",
       "      <td>15660</td>\n",
       "      <td>6257</td>\n",
       "      <td>22827</td>\n",
       "      <td>22999</td>\n",
       "      <td>5</td>\n",
       "      <td>2</td>\n",
       "      <td>56</td>\n",
       "    </tr>\n",
       "    <tr>\n",
       "      <th>top</th>\n",
       "      <td>24</td>\n",
       "      <td>14093215</td>\n",
       "      <td>2014-01-09T00:00:00.000</td>\n",
       "      <td>1500 RUSSELL ST</td>\n",
       "      <td>FAILURE TO APPEAR</td>\n",
       "      <td>39.274088468453</td>\n",
       "      <td>-76.627695120552</td>\n",
       "      <td>B</td>\n",
       "      <td>M</td>\n",
       "      <td>Southern</td>\n",
       "    </tr>\n",
       "    <tr>\n",
       "      <th>freq</th>\n",
       "      <td>6439</td>\n",
       "      <td>2</td>\n",
       "      <td>178</td>\n",
       "      <td>408</td>\n",
       "      <td>21292</td>\n",
       "      <td>387</td>\n",
       "      <td>387</td>\n",
       "      <td>112887</td>\n",
       "      <td>111529</td>\n",
       "      <td>9679</td>\n",
       "    </tr>\n",
       "  </tbody>\n",
       "</table>\n",
       "</div>"
      ],
      "text/plain": [
       "           age    arrest               arrestdate   arrestlocation  \\\n",
       "count   137976    131291                   138016            75021   \n",
       "unique      74    131186                     1885            15660   \n",
       "top         24  14093215  2014-01-09T00:00:00.000  1500 RUSSELL ST   \n",
       "freq      6439         2                      178              408   \n",
       "\n",
       "        chargedescription         latitude         longitude    race     sex  \\\n",
       "count              138016            73775             73775  138016  138016   \n",
       "unique               6257            22827             22999       5       2   \n",
       "top     FAILURE TO APPEAR  39.274088468453  -76.627695120552       B       M   \n",
       "freq                21292              387               387  112887  111529   \n",
       "\n",
       "        district  \n",
       "count      75590  \n",
       "unique        56  \n",
       "top     Southern  \n",
       "freq        9679  "
      ]
     },
     "execution_count": 45,
     "metadata": {},
     "output_type": "execute_result"
    }
   ],
   "source": [
    "## Data cleaning - keep variables in df_new\n",
    "\n",
    "df_clean = df[['age', 'arrest', 'arrestdate', 'arrestlocation', 'chargedescription',\n",
    "                'latitude', 'longitude', 'race', 'sex','district']]\n",
    "\n",
    "df_clean.describe()\n"
   ]
  },
  {
   "cell_type": "code",
   "execution_count": 46,
   "metadata": {},
   "outputs": [],
   "source": [
    "## Data cleaning \n",
    "\n",
    "df_clean = df_clean.rename(columns={\n",
    "        'arrestdate': 'arrest_date',\n",
    "        'arrestlocation': 'arrest_location',\n",
    "        'chargedescription': 'charge_desc'})\n",
    "\n",
    "df_clean['arrest_date'] = df_clean.arrest_date.str.slice(0, 10)\n",
    "df_clean['arrest_date'] = pd.to_datetime(df_clean['arrest_date'],format='%Y/%m/%d') \n",
    "df_clean['year'] = df_clean['arrest_date'].map(lambda x: x.year)\n"
   ]
  },
  {
   "cell_type": "code",
   "execution_count": 47,
   "metadata": {},
   "outputs": [
    {
     "data": {
      "text/html": [
       "<div>\n",
       "<style scoped>\n",
       "    .dataframe tbody tr th:only-of-type {\n",
       "        vertical-align: middle;\n",
       "    }\n",
       "\n",
       "    .dataframe tbody tr th {\n",
       "        vertical-align: top;\n",
       "    }\n",
       "\n",
       "    .dataframe thead th {\n",
       "        text-align: right;\n",
       "    }\n",
       "</style>\n",
       "<table border=\"1\" class=\"dataframe\">\n",
       "  <thead>\n",
       "    <tr style=\"text-align: right;\">\n",
       "      <th></th>\n",
       "      <th>year</th>\n",
       "    </tr>\n",
       "  </thead>\n",
       "  <tbody>\n",
       "    <tr>\n",
       "      <th>count</th>\n",
       "      <td>138016.000000</td>\n",
       "    </tr>\n",
       "    <tr>\n",
       "      <th>mean</th>\n",
       "      <td>2015.811725</td>\n",
       "    </tr>\n",
       "    <tr>\n",
       "      <th>std</th>\n",
       "      <td>1.513251</td>\n",
       "    </tr>\n",
       "    <tr>\n",
       "      <th>min</th>\n",
       "      <td>2014.000000</td>\n",
       "    </tr>\n",
       "    <tr>\n",
       "      <th>25%</th>\n",
       "      <td>2014.000000</td>\n",
       "    </tr>\n",
       "    <tr>\n",
       "      <th>50%</th>\n",
       "      <td>2016.000000</td>\n",
       "    </tr>\n",
       "    <tr>\n",
       "      <th>75%</th>\n",
       "      <td>2017.000000</td>\n",
       "    </tr>\n",
       "    <tr>\n",
       "      <th>max</th>\n",
       "      <td>2019.000000</td>\n",
       "    </tr>\n",
       "  </tbody>\n",
       "</table>\n",
       "</div>"
      ],
      "text/plain": [
       "                year\n",
       "count  138016.000000\n",
       "mean     2015.811725\n",
       "std         1.513251\n",
       "min      2014.000000\n",
       "25%      2014.000000\n",
       "50%      2016.000000\n",
       "75%      2017.000000\n",
       "max      2019.000000"
      ]
     },
     "execution_count": 47,
     "metadata": {},
     "output_type": "execute_result"
    }
   ],
   "source": [
    "df_clean.describe()"
   ]
  },
  {
   "cell_type": "code",
   "execution_count": 11,
   "metadata": {},
   "outputs": [
    {
     "name": "stdout",
     "output_type": "stream",
     "text": [
      "                year\n",
      "count  138016.000000\n",
      "mean     2015.811725\n",
      "std         1.513251\n",
      "min      2014.000000\n",
      "25%      2014.000000\n",
      "50%      2016.000000\n",
      "75%      2017.000000\n",
      "max      2019.000000\n",
      "age                   40\n",
      "arrest              6725\n",
      "arrest_date            0\n",
      "arrest_location    62995\n",
      "charge_desc            0\n",
      "latitude           64241\n",
      "longitude          64241\n",
      "race                   0\n",
      "sex                    0\n",
      "district           62426\n",
      "year                   0\n",
      "dtype: int64\n"
     ]
    }
   ],
   "source": [
    "print(df_clean.describe())\n",
    "print(df_clean.isnull().sum())"
   ]
  },
  {
   "cell_type": "code",
   "execution_count": 64,
   "metadata": {},
   "outputs": [
    {
     "name": "stdout",
     "output_type": "stream",
     "text": [
      "          longitude      latitude          year\n",
      "count  73651.000000  73651.000000  73651.000000\n",
      "mean     -76.617764     39.303197   2015.693677\n",
      "std        0.042895      0.027994      1.505717\n",
      "min      -78.769000     38.373311   2014.000000\n",
      "25%      -76.646706     39.288466   2014.000000\n",
      "50%      -76.615919     39.301436   2015.000000\n",
      "75%      -76.587696     39.317504   2017.000000\n",
      "max      -75.596028     39.660069   2019.000000\n",
      "------------\n",
      "          longitude      latitude          year\n",
      "count  73651.000000  73651.000000  73651.000000\n",
      "mean     -76.617764     39.303197   2015.693677\n",
      "std        0.042895      0.027994      1.505717\n",
      "min      -78.769000     38.373311   2014.000000\n",
      "25%      -76.646706     39.288466   2014.000000\n",
      "50%      -76.615919     39.301436   2015.000000\n",
      "75%      -76.587696     39.317504   2017.000000\n",
      "max      -75.596028     39.660069   2019.000000\n"
     ]
    }
   ],
   "source": [
    "# Create Lat / Long files\n",
    "\n",
    "df_geography = df_clean[['longitude', 'latitude', 'year']].dropna()\n",
    "df_geography['longitude'] = pd.to_numeric(df_geography['longitude'], errors=coerce)\n",
    "df_geography['latitude'] = pd.to_numeric(df_geography['latitude'],errors=coerce)\n",
    "df_geography['year'] = pd.to_numeric(df_geography['year'],errors=coerce)\n",
    "df_geography = df_geography.dropna()\n",
    "\n",
    "# Fit to Baltimore\n",
    "\n",
    "\n",
    "print(df_geography.describe())\n",
    "print('------------')\n",
    "\n",
    "gdf = geopandas.GeoDataFrame(\n",
    "    df_geography, geometry=geopandas.points_from_xy(df_geography.longitude, df_geography.latitude))\n",
    "print(gdf.describe())\n"
   ]
  },
  {
   "cell_type": "code",
   "execution_count": 26,
   "metadata": {},
   "outputs": [
    {
     "name": "stdout",
     "output_type": "stream",
     "text": [
      "longitude       118\n",
      "latitude          4\n",
      "fine_fee_tag      0\n",
      "year              0\n",
      "dtype: int64\n",
      "    longitude   latitude fine_fee_tag  year  \\\n",
      "9  -76.688394  39.351817  not related  2019   \n",
      "12 -76.614584  39.290421  not related  2019   \n",
      "14 -76.598161  39.228947  not related  2019   \n",
      "16 -76.651425  39.287927  not related  2019   \n",
      "21 -76.557307  39.342519  not related  2019   \n",
      "\n",
      "                                      geometry  \n",
      "9      POINT (-76.688393964124 39.35181744853)  \n",
      "12        POINT (-76.61458399999999 39.290421)  \n",
      "14    POINT (-76.598160690846 39.228946731644)  \n",
      "16                POINT (-76.651425 39.287927)  \n",
      "21  POINT (-76.55730716411701 39.342518756884)  \n"
     ]
    }
   ],
   "source": [
    "\n",
    "\n"
   ]
  },
  {
   "cell_type": "code",
   "execution_count": 55,
   "metadata": {},
   "outputs": [],
   "source": [
    "# Import Geospatial Data\n",
    "# https://data.baltimorecity.gov/Neighborhoods/Vital-Signs-16-Census-Demographics/peh2-3qyi\n",
    "tracts = geopandas.read_file('2010 Census Tracts.geojson')\n",
    "tracts_census = geopandas.read_file('Vital Signs 16 Census Demographics.geojson')\n"
   ]
  },
  {
   "cell_type": "code",
   "execution_count": 56,
   "metadata": {},
   "outputs": [
    {
     "data": {
      "text/plain": [
       "Index([       u'hhs16',    u'hhchpov16',      u'phisp16',       u'pasi16',\n",
       "         u'shape_area',      u'hhpov16',     u'age65_16',    u'hh60inc16',\n",
       "          u'hh25inc16',    u'hh40inc16',       u'tpop10',     u'hhsize16',\n",
       "          u'hh75inc16',     u'pwhite16',     u'objectid',      u'csa2010',\n",
       "           u'racdiv16',      u'age5_16',     u'age18_16', u'shape_length',\n",
       "            u'hhm7516',     u'p2more16',        u'fam16',       u'ppac16',\n",
       "              u'paa16',     u'femhhs16',     u'female10',     u'age64_16',\n",
       "             u'male10',     u'age24_16',       u'mhhi16',     u'geometry'],\n",
       "      dtype='object')"
      ]
     },
     "execution_count": 56,
     "metadata": {},
     "output_type": "execute_result"
    }
   ],
   "source": [
    "tracts_census.columns"
   ]
  },
  {
   "cell_type": "code",
   "execution_count": 57,
   "metadata": {},
   "outputs": [
    {
     "data": {
      "text/plain": [
       "hhs16           object\n",
       "hhchpov16       object\n",
       "phisp16         object\n",
       "pasi16          object\n",
       "shape_area      object\n",
       "hhpov16         object\n",
       "age65_16        object\n",
       "hh60inc16       object\n",
       "hh25inc16       object\n",
       "hh40inc16       object\n",
       "tpop10          object\n",
       "hhsize16        object\n",
       "hh75inc16       object\n",
       "pwhite16        object\n",
       "objectid        object\n",
       "csa2010         object\n",
       "racdiv16        object\n",
       "age5_16         object\n",
       "age18_16        object\n",
       "shape_length    object\n",
       "hhm7516         object\n",
       "p2more16        object\n",
       "fam16           object\n",
       "ppac16          object\n",
       "paa16           object\n",
       "femhhs16        object\n",
       "female10        object\n",
       "age64_16        object\n",
       "male10          object\n",
       "age24_16        object\n",
       "mhhi16          object\n",
       "geometry        object\n",
       "dtype: object"
      ]
     },
     "execution_count": 57,
     "metadata": {},
     "output_type": "execute_result"
    }
   ],
   "source": [
    "tracts_census.dtypes"
   ]
  },
  {
   "cell_type": "code",
   "execution_count": 58,
   "metadata": {},
   "outputs": [
    {
     "data": {
      "text/plain": [
       "hhs16            object\n",
       "hhchpov16        object\n",
       "phisp16          object\n",
       "pasi16           object\n",
       "shape_area       object\n",
       "hhpov16          object\n",
       "age65_16         object\n",
       "hh60inc16        object\n",
       "hh25inc16        object\n",
       "hh40inc16        object\n",
       "tpop10           object\n",
       "hhsize16         object\n",
       "hh75inc16        object\n",
       "pwhite16         object\n",
       "objectid         object\n",
       "csa2010          object\n",
       "racdiv16         object\n",
       "age5_16          object\n",
       "age18_16         object\n",
       "shape_length     object\n",
       "hhm7516          object\n",
       "p2more16         object\n",
       "fam16            object\n",
       "ppac16           object\n",
       "paa16            object\n",
       "femhhs16         object\n",
       "female10         object\n",
       "age64_16         object\n",
       "male10           object\n",
       "age24_16         object\n",
       "mhhi16           object\n",
       "geometry         object\n",
       "black_pct_16    float64\n",
       "dtype: object"
      ]
     },
     "execution_count": 58,
     "metadata": {},
     "output_type": "execute_result"
    }
   ],
   "source": [
    "tracts_census['black_pct_16'] = pd.to_numeric(tracts_census['paa16'])\n",
    "tracts_census.dtypes"
   ]
  },
  {
   "cell_type": "code",
   "execution_count": 59,
   "metadata": {},
   "outputs": [
    {
     "data": {
      "text/plain": [
       "<matplotlib.axes._subplots.AxesSubplot at 0x126467b10>"
      ]
     },
     "execution_count": 59,
     "metadata": {},
     "output_type": "execute_result"
    },
    {
     "data": {
      "image/png": "[encoded data removed]",
      "text/plain": [
       "<Figure size 432x288 with 1 Axes>"
      ]
     },
     "metadata": {
      "needs_background": "light"
     },
     "output_type": "display_data"
    }
   ],
   "source": [
    "tracts_census.plot()"
   ]
  },
  {
   "cell_type": "code",
   "execution_count": 60,
   "metadata": {},
   "outputs": [
    {
     "data": {
      "text/plain": [
       "<matplotlib.axes._subplots.AxesSubplot at 0x12cfbd250>"
      ]
     },
     "execution_count": 60,
     "metadata": {},
     "output_type": "execute_result"
    },
    {
     "data": {
      "image/png": "[encoded data removed]",
      "text/plain": [
       "<Figure size 1440x720 with 3 Axes>"
      ]
     },
     "metadata": {
      "needs_background": "light"
     },
     "output_type": "display_data"
    }
   ],
   "source": [
    "fig, ax = plt.subplots(figsize=(20, 10))\n",
    "\n",
    "divider = make_axes_locatable(ax)\n",
    "\n",
    "cax = divider.append_axes(\"right\", size=\"5%\", pad=0.1)\n",
    "\n",
    "#plt.title('Baltimore Census Tracts by Share of Black Residents')\n",
    "\n",
    "tracts_census.plot(column='black_pct_16', cmap='Blues', ax=ax, legend=True)\n"
   ]
  },
  {
   "cell_type": "code",
   "execution_count": 69,
   "metadata": {},
   "outputs": [],
   "source": [
    "gdf.crs = {'init' :'epsg:4326'}\n"
   ]
  },
  {
   "cell_type": "code",
   "execution_count": 72,
   "metadata": {},
   "outputs": [
    {
     "data": {
      "image/png": "[encoded data removed]",
      "text/plain": [
       "<Figure size 432x288 with 1 Axes>"
      ]
     },
     "metadata": {
      "needs_background": "light"
     },
     "output_type": "display_data"
    }
   ],
   "source": [
    "base = tracts_census.plot(color='white', edgecolor='black')\n",
    "\n",
    "gdf.plot(ax=base, marker='*', color='red', markersize=.5)\n"
   ]
  },
  {
   "cell_type": "code",
   "execution_count": null,
   "metadata": {},
   "outputs": [],
   "source": []
  }
 ],
 "metadata": {
  "anaconda-cloud": {},
  "kernelspec": {
   "display_name": "Python [conda env:anaconda]",
   "language": "python",
   "name": "conda-env-anaconda-py"
  },
  "language_info": {
   "codemirror_mode": {
    "name": "ipython",
    "version": 2
   },
   "file_extension": ".py",
   "mimetype": "text/x-python",
   "name": "python",
   "nbconvert_exporter": "python",
   "pygments_lexer": "ipython2",
   "version": "2.7.16"
  },
  "toc": {
   "base_numbering": 1,
   "nav_menu": {},
   "number_sections": true,
   "sideBar": true,
   "skip_h1_title": false,
   "title_cell": "Table of Contents",
   "title_sidebar": "Contents",
   "toc_cell": false,
   "toc_position": {},
   "toc_section_display": true,
   "toc_window_display": false
  }
 },
 "nbformat": 4,
 "nbformat_minor": 1
}
